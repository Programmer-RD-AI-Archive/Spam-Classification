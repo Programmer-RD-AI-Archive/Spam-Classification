{
 "cells": [
  {
   "cell_type": "code",
   "execution_count": 1,
   "id": "505193c4-008a-43d6-8c56-661cfbaccd96",
   "metadata": {},
   "outputs": [],
   "source": [
    "import nltk\n",
    "from nltk.stem.porter import *\n",
    "from torch.nn import *\n",
    "from torch.optim import *\n",
    "import numpy as np\n",
    "import pandas as pd\n",
    "import torch,torchvision\n",
    "import random\n",
    "from tqdm import *\n",
    "from torch.utils.data import Dataset,DataLoader\n",
    "np.random.seed(21)\n",
    "random.seed(21)\n",
    "torch.manual_seed(21)\n",
    "stemmer = PorterStemmer()"
   ]
  },
  {
   "cell_type": "code",
   "execution_count": 2,
   "id": "fbda34d5-85ad-4d7f-a497-d0b97287c422",
   "metadata": {},
   "outputs": [],
   "source": [
    "def tokenize(sentence):\n",
    "    return nltk.word_tokenize(sentence)"
   ]
  },
  {
   "cell_type": "code",
   "execution_count": 3,
   "id": "941c3850-4917-4637-9424-e376586ec350",
   "metadata": {},
   "outputs": [
    {
     "data": {
      "text/plain": [
       "['how', 'are', 'you', '?']"
      ]
     },
     "execution_count": 3,
     "metadata": {},
     "output_type": "execute_result"
    }
   ],
   "source": [
    "tokenize('how are you?')"
   ]
  },
  {
   "cell_type": "code",
   "execution_count": 4,
   "id": "cf45644d-2e72-4668-8fec-990f298dcc1d",
   "metadata": {},
   "outputs": [],
   "source": [
    "def stem(word):\n",
    "    return stemmer.stem(word.lower())"
   ]
  },
  {
   "cell_type": "code",
   "execution_count": 5,
   "id": "92a2ec13-dace-4543-a068-993050637105",
   "metadata": {},
   "outputs": [
    {
     "data": {
      "text/plain": [
       "'organ'"
      ]
     },
     "execution_count": 5,
     "metadata": {},
     "output_type": "execute_result"
    }
   ],
   "source": [
    "stem('ORGANIC')"
   ]
  },
  {
   "cell_type": "code",
   "execution_count": 6,
   "id": "96771b99-9ada-4de7-bfb2-57b4c4482f0b",
   "metadata": {},
   "outputs": [],
   "source": [
    "def bag_of_words(tokenized_words,all_words):\n",
    "    tokenized_words = [stem(w) for w in tokenized_words]\n",
    "    bag = np.zeros(len(all_words),dtype=np.float32)\n",
    "    for idx,w in enumerate(all_words):\n",
    "        if w in tokenized_words:\n",
    "            bag[idx] = 1.0\n",
    "    return bag"
   ]
  },
  {
   "cell_type": "code",
   "execution_count": 7,
   "id": "73fb1e1f-870b-42b4-986e-f46cfed2c301",
   "metadata": {},
   "outputs": [
    {
     "data": {
      "text/plain": [
       "array([1., 0., 0., 0., 1., 1.], dtype=float32)"
      ]
     },
     "execution_count": 7,
     "metadata": {},
     "output_type": "execute_result"
    }
   ],
   "source": [
    "bag_of_words(tokenize('how are you ha ha organic organ'),['organ','story','numpy','organix','ha','are'])"
   ]
  },
  {
   "cell_type": "code",
   "execution_count": 8,
   "id": "d911575e-a574-46fa-a0ed-bd41ccbedaaf",
   "metadata": {},
   "outputs": [],
   "source": [
    "data = pd.read_csv('./data.csv')"
   ]
  },
  {
   "cell_type": "code",
   "execution_count": 9,
   "id": "2c42fe57-f0b0-4c5a-84b2-659ec377d46a",
   "metadata": {},
   "outputs": [],
   "source": [
    "X = data['MESSAGE']\n",
    "y = data['CATEGORY']"
   ]
  },
  {
   "cell_type": "code",
   "execution_count": 10,
   "id": "61ebdbe9-aa88-44f4-8c51-86af2ea5feb2",
   "metadata": {},
   "outputs": [],
   "source": [
    "all_words = []\n",
    "all_data = []\n",
    "tags = []"
   ]
  },
  {
   "cell_type": "code",
   "execution_count": 11,
   "id": "692c575b-2abc-47fe-946c-94894a700403",
   "metadata": {},
   "outputs": [
    {
     "name": "stderr",
     "output_type": "stream",
     "text": [
      "5796it [00:35, 162.18it/s]\n"
     ]
    }
   ],
   "source": [
    "for X_batch,y_batch in tqdm(zip(X,y)):\n",
    "    X_bacth = tokenize(X_batch)\n",
    "    new_X = []\n",
    "    for X_batch_in_X_batch in X_bacth:\n",
    "        new_X.append(stem(X_batch_in_X_batch))\n",
    "    all_words.extend(new_X)\n",
    "    all_data.append((new_X,y_batch))\n",
    "    tags.append(y_batch)"
   ]
  },
  {
   "cell_type": "code",
   "execution_count": 12,
   "id": "2d9b64be-552f-4567-b221-16097abc1301",
   "metadata": {},
   "outputs": [
    {
     "data": {
      "text/plain": [
       "3054626"
      ]
     },
     "execution_count": 12,
     "metadata": {},
     "output_type": "execute_result"
    }
   ],
   "source": [
    "len(all_words)"
   ]
  },
  {
   "cell_type": "code",
   "execution_count": 13,
   "id": "f3bb04a0-3e5e-4ecb-9fc3-ca7eda858f43",
   "metadata": {},
   "outputs": [
    {
     "data": {
      "text/plain": [
       "5796"
      ]
     },
     "execution_count": 13,
     "metadata": {},
     "output_type": "execute_result"
    }
   ],
   "source": [
    "len(all_data)"
   ]
  },
  {
   "cell_type": "code",
   "execution_count": 14,
   "id": "e0631b09-ac61-4747-b49b-d4be2764aa48",
   "metadata": {},
   "outputs": [
    {
     "data": {
      "text/plain": [
       "5796"
      ]
     },
     "execution_count": 14,
     "metadata": {},
     "output_type": "execute_result"
    }
   ],
   "source": [
    "len(tags)"
   ]
  },
  {
   "cell_type": "code",
   "execution_count": 15,
   "id": "c54cf48b-4e7f-48b2-bd2f-c5972309ff1f",
   "metadata": {},
   "outputs": [],
   "source": [
    "all_words = sorted(set(all_words))"
   ]
  },
  {
   "cell_type": "code",
   "execution_count": 16,
   "id": "13a76626-0eee-46a4-a5c2-298e766e1516",
   "metadata": {},
   "outputs": [
    {
     "data": {
      "text/plain": [
       "93148"
      ]
     },
     "execution_count": 16,
     "metadata": {},
     "output_type": "execute_result"
    }
   ],
   "source": [
    "len(all_words)"
   ]
  },
  {
   "cell_type": "code",
   "execution_count": 17,
   "id": "7560f25e-012b-4530-85a0-6cec635385cd",
   "metadata": {},
   "outputs": [],
   "source": [
    "tags = sorted(set(tags))"
   ]
  },
  {
   "cell_type": "code",
   "execution_count": 18,
   "id": "8e753411-e31f-4844-8e47-c7a5a7b428c8",
   "metadata": {},
   "outputs": [
    {
     "data": {
      "text/plain": [
       "2"
      ]
     },
     "execution_count": 18,
     "metadata": {},
     "output_type": "execute_result"
    }
   ],
   "source": [
    "len(tags)"
   ]
  },
  {
   "cell_type": "code",
   "execution_count": 19,
   "id": "3385095a-f43c-4482-b2f5-871e4cb25e06",
   "metadata": {},
   "outputs": [],
   "source": [
    "X = []\n",
    "y = []"
   ]
  },
  {
   "cell_type": "code",
   "execution_count": null,
   "id": "1dc7391e-d1eb-4d6d-9ecc-046ec21bfbc6",
   "metadata": {},
   "outputs": [
    {
     "name": "stderr",
     "output_type": "stream",
     "text": [
      " 16%|██████▎                                 | 922/5796 [07:44<43:15,  1.88it/s]"
     ]
    }
   ],
   "source": [
    "for sentence,tag in tqdm(all_data):\n",
    "    sentence = bag_of_words(sentence,all_words)\n",
    "    X.append(sentence)\n",
    "    y.append(tags.index(tag))"
   ]
  },
  {
   "cell_type": "code",
   "execution_count": null,
   "id": "accce5fc-be76-4172-8971-3ff9cb8c933d",
   "metadata": {},
   "outputs": [],
   "source": [
    "y[0]"
   ]
  },
  {
   "cell_type": "code",
   "execution_count": null,
   "id": "fe530d48-585c-4f09-9b0a-22b4769c2c01",
   "metadata": {},
   "outputs": [],
   "source": [
    "X[0]"
   ]
  },
  {
   "cell_type": "code",
   "execution_count": null,
   "id": "a94f5c53-e293-4fe3-a475-67e66f666e9b",
   "metadata": {},
   "outputs": [],
   "source": [
    "from sklearn.model_selection import *"
   ]
  },
  {
   "cell_type": "code",
   "execution_count": null,
   "id": "beaa6b70-8b55-4eab-bba2-a14cbf9beb21",
   "metadata": {},
   "outputs": [],
   "source": [
    "X_train,X_test,y_train,y_test = train_test_split(X,y,test_size=0.25)"
   ]
  },
  {
   "cell_type": "code",
   "execution_count": null,
   "id": "91691439-a769-4164-a481-9e6e243e8dd7",
   "metadata": {},
   "outputs": [],
   "source": [
    "device = 'cuda'"
   ]
  },
  {
   "cell_type": "code",
   "execution_count": null,
   "id": "8898aee3-243b-4191-a21e-6dfe2462d026",
   "metadata": {},
   "outputs": [],
   "source": [
    "X_train = torch.from_numpy(np.array(X_train)).to(device).float()\n",
    "X_test = torch.from_numpy(np.array(X_test)).to(device).float()\n",
    "y_train = torch.from_numpy(np.array(y_train)).to(device)\n",
    "y_test = torch.from_numpy(np.array(y_test)).to(device)"
   ]
  },
  {
   "cell_type": "code",
   "execution_count": null,
   "id": "d42e4568-6db0-49c0-8faf-7458494c2035",
   "metadata": {},
   "outputs": [],
   "source": [
    "torch.save(X_train,'X_train.pth')\n",
    "torch.save(X_test,'X_test.pth')\n",
    "torch.save(y_train,'y_train.pth')\n",
    "torch.save(y_test,'y_test.pth')\n",
    "torch.save(all_data,'all_data.pth')\n",
    "torch.save(all_words,'all_words.pth')\n",
    "torch.save(tags,'tags.pth')\n",
    "X_train = torch.load('X_train.pth').to(device).float()\n",
    "y_train = torch.load('y_train.pth').to(device).float()\n",
    "X_test = torch.load('X_test.pth').to(device).float()\n",
    "y_test = torch.load('y_test.pth').to(device).float()\n",
    "all_data = list(torch.load('all_data.pth'))\n",
    "all_words = list(torch.load('all_words.pth'))\n",
    "tags = list(torch.load('tags.pth'))"
   ]
  },
  {
   "cell_type": "code",
   "execution_count": null,
   "id": "d37053a2-644f-4b82-be0b-0c378d340c09",
   "metadata": {},
   "outputs": [],
   "source": [
    "class Model(Module):\n",
    "    def __init__(self):\n",
    "        super().__init__()\n",
    "        self.activation = ReLU()\n",
    "        self.iters = 5\n",
    "        self.linear1 = Linear(len(all_words),512)\n",
    "        self.linear2 = Linear(512,512)\n",
    "        self.linear3 = Linear(512,1)\n",
    "        self.linear3activation = Sigmoid()\n",
    "    \n",
    "    def forward(self,X):\n",
    "        preds = self.activation(self.linear1(X))\n",
    "        for iteration in range(self.iters):\n",
    "            preds = self.activation(self.linear2(preds))\n",
    "        preds = self.linear3activation(self.linear3(preds))\n",
    "        return preds"
   ]
  },
  {
   "cell_type": "code",
   "execution_count": null,
   "id": "ae73154d-e45e-44f1-bae3-601b0d2de577",
   "metadata": {},
   "outputs": [],
   "source": [
    "model = Model().to(device)"
   ]
  },
  {
   "cell_type": "code",
   "execution_count": null,
   "id": "06b62b07-ad8a-462a-b289-673ceb0efc21",
   "metadata": {},
   "outputs": [],
   "source": [
    "criterion = MSELoss()"
   ]
  },
  {
   "cell_type": "code",
   "execution_count": null,
   "id": "23f22d50-e5c3-4514-8cb7-5a0a94fa46e5",
   "metadata": {},
   "outputs": [],
   "source": [
    "optimizer = Adam(model.parameters(),lr=0.001)"
   ]
  },
  {
   "cell_type": "code",
   "execution_count": null,
   "id": "22f08d34-ff9e-48f7-8c4b-b44ee3b37265",
   "metadata": {},
   "outputs": [],
   "source": [
    "epochs = 100"
   ]
  },
  {
   "cell_type": "code",
   "execution_count": null,
   "id": "a70f81fe-60e3-4875-aa5c-9fa3566c607b",
   "metadata": {},
   "outputs": [],
   "source": [
    "batch_size = 32"
   ]
  },
  {
   "cell_type": "code",
   "execution_count": null,
   "id": "965c0ec4-8655-4bc8-8fad-42be56f38d1c",
   "metadata": {},
   "outputs": [],
   "source": [
    "for _ in tqdm(range(epochs)):\n",
    "    for idx in range(0,len(X_train),batch_size):\n",
    "        X_batch = X_train[idx:idx+batch_size].to(device).float()\n",
    "        y_batch = y_train[idx:idx+batch_size].to(device).float()\n",
    "        preds = model(X_batch)\n",
    "        preds = preds.to(device)\n",
    "        loss = criterion(preds,y_batch)\n",
    "        optimizer.zero_grad()\n",
    "        loss.backward()\n",
    "        optimizer.step()"
   ]
  },
  {
   "cell_type": "code",
   "execution_count": null,
   "id": "387ec647-458d-4782-ba6e-d633b62f73a2",
   "metadata": {},
   "outputs": [],
   "source": [
    "import wandb"
   ]
  },
  {
   "cell_type": "code",
   "execution_count": null,
   "id": "f192f17d-bc80-4de4-a6f0-82633b8af363",
   "metadata": {},
   "outputs": [],
   "source": [
    "def get_loss(model,X,y,criterion):\n",
    "    preds = model(X)\n",
    "    loss = criterion(preds,y)\n",
    "    return loss.item()"
   ]
  },
  {
   "cell_type": "code",
   "execution_count": null,
   "id": "b3d9a181-898f-4c54-bc93-1d85a08f1a03",
   "metadata": {},
   "outputs": [],
   "source": [
    "def get_accuracy(model,X,y):\n",
    "    correct = 0\n",
    "    total = 0\n",
    "    preds = model(X)\n",
    "    for pred,y_batch in zip(preds,y):\n",
    "        pred = int(torch.round(pred))\n",
    "        y_batch = int(torch.round(y_batch))\n",
    "        if pred == y_batch:\n",
    "            correct += 1\n",
    "        total += 1\n",
    "    acc = round(correct/total,3)*100\n",
    "    return acc"
   ]
  },
  {
   "cell_type": "code",
   "execution_count": null,
   "id": "e2fb7735-8176-466d-b8ec-413ac0da8aab",
   "metadata": {},
   "outputs": [],
   "source": [
    "wandb.init(project='Spam-Clf-V1',name='baseline')\n",
    "for _ in tqdm(range(epochs)):\n",
    "    for idx in range(0,len(X_train),batch_size):\n",
    "        X_batch = X_train[idx:idx+batch_size].to(device).float()\n",
    "        y_batch = y_train[idx:idx+batch_size].to(device).float()\n",
    "        preds = model(X_batch)\n",
    "        preds = preds.to(device)\n",
    "        loss = criterion(preds,y_batch)\n",
    "        optimizer.zero_grad()\n",
    "        loss.backward()\n",
    "        optimizer.step()\n",
    "    wandb.log({'Loss':(get_loss(model,X_train,y_train,criterion)+loss.item()+get_loss(model,X_batch,y_batch,criterion))/3})\n",
    "    wandb.log({'Val Loss':get_loss(model,X_test,y_test,criterion)})\n",
    "    wandb.log({'Acc':(get_accuracy(model,X_train,y_train,criterion)+get_accuracy(model,X_batch,y_batch,criterion))/2})\n",
    "    wandb.log({'Val Acc':get_accuracy(model,X_test,y_test,criterion)})\n",
    "wandb.finish()"
   ]
  },
  {
   "cell_type": "code",
   "execution_count": null,
   "id": "03b7d7b8-2989-4e55-bddb-6008d14bba01",
   "metadata": {},
   "outputs": [],
   "source": []
  }
 ],
 "metadata": {
  "kernelspec": {
   "display_name": "Python 3.7.3 64-bit ('base': conda)",
   "language": "python",
   "name": "python373jvsc74a57bd0210f9608a45c0278a93c9e0b10db32a427986ab48cfc0d20c139811eb78c4bbc"
  },
  "language_info": {
   "codemirror_mode": {
    "name": "ipython",
    "version": 3
   },
   "file_extension": ".py",
   "mimetype": "text/x-python",
   "name": "python",
   "nbconvert_exporter": "python",
   "pygments_lexer": "ipython3",
   "version": "3.7.11"
  }
 },
 "nbformat": 4,
 "nbformat_minor": 5
}
